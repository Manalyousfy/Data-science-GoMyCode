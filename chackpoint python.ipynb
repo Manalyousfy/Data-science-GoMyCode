{
 "cells": [
  {
   "cell_type": "code",
   "execution_count": 7,
   "id": "cbc28caf-a3be-429b-bd35-9a3f487fe48f",
   "metadata": {},
   "outputs": [
    {
     "name": "stdout",
     "output_type": "stream",
     "text": [
      "welcome to pizza deliveries\n"
     ]
    }
   ],
   "source": [
    "print ( \"welcome to pizza deliveries\")"
   ]
  },
  {
   "cell_type": "code",
   "execution_count": null,
   "id": "3a0bac23-b4b0-45df-9131-a92cdd268878",
   "metadata": {
    "scrolled": true
   },
   "outputs": [],
   "source": [
    "size = input ( \"size\" )\n",
    "pep = input ( \"do you want to add pepperoni\" )\n",
    "ch = input ( \" extra_cheese \")\n",
    "price=sp1=sp2=0\n",
    "if size == \"S\":\n",
    "    price = 15 \n",
    "elif size == \"M\":\n",
    "    price = 20\n",
    "elif size == \"L\":\n",
    "    price = 25 \n",
    "if size == \"S\" and pep == \"Y\":\n",
    "    sp1 = 2\n",
    "elif (size == \"M\" or size == \"L\") and pep == \"Y\":\n",
    "    sp1 = 3\n",
    "if ch == \"Y\":\n",
    "    sp2 = 1 \n",
    "facture = price+sp1+sp2\n",
    "print(\"Facture:\",facture)"
   ]
  },
  {
   "cell_type": "code",
   "execution_count": null,
   "id": "f936db3e-7075-4e0b-8bc6-786b1af05031",
   "metadata": {},
   "outputs": [],
   "source": []
  },
  {
   "cell_type": "code",
   "execution_count": null,
   "id": "4df79dab-7fb1-47ad-aabe-2a13353f80dd",
   "metadata": {},
   "outputs": [],
   "source": []
  }
 ],
 "metadata": {
  "kernelspec": {
   "display_name": "Python 3 (ipykernel)",
   "language": "python",
   "name": "python3"
  },
  "language_info": {
   "codemirror_mode": {
    "name": "ipython",
    "version": 3
   },
   "file_extension": ".py",
   "mimetype": "text/x-python",
   "name": "python",
   "nbconvert_exporter": "python",
   "pygments_lexer": "ipython3",
   "version": "3.11.7"
  }
 },
 "nbformat": 4,
 "nbformat_minor": 5
}
