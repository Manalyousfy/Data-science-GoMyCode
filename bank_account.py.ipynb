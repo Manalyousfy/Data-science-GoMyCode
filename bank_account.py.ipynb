{
 "cells": [
  {
   "cell_type": "code",
   "execution_count": 8,
   "id": "ca58a948-52c6-4b69-a4d3-1d667dc7740f",
   "metadata": {},
   "outputs": [
    {
     "name": "stdin",
     "output_type": "stream",
     "text": [
      "Enter the amount to deposit:  300\n"
     ]
    },
    {
     "name": "stdout",
     "output_type": "stream",
     "text": [
      "The amount deposited is: 300.0. New balance: 1300.0\n"
     ]
    },
    {
     "name": "stdin",
     "output_type": "stream",
     "text": [
      "Enter the amount to withdraw:  200\n"
     ]
    },
    {
     "name": "stdout",
     "output_type": "stream",
     "text": [
      "The amount withdrawn is: 200.0. New balance: 1100.0\n",
      "Current balance: 1100.0\n",
      "Current balance: None\n"
     ]
    }
   ],
   "source": [
    "class Account:\n",
    "    def __init__(self, number, balance, holder):\n",
    "        self.number = number\n",
    "        self.balance = float(balance)\n",
    "        self.holder = holder\n",
    "    \n",
    "    def deposit(self, amount):\n",
    "        self.balance += amount\n",
    "        print(f\"The amount deposited is: {amount}. New balance: {self.balance}\")\n",
    "    \n",
    "    def withdraw(self, amount):\n",
    "        if amount <= self.balance:\n",
    "            self.balance -= amount\n",
    "            print(f\"The amount withdrawn is: {amount}. New balance: {self.balance}\")\n",
    "        else:\n",
    "            print(\"Withdrawal amount exceeds balance. Withdrawal not allowed.\")\n",
    "    \n",
    "    def check_balance(self):\n",
    "        print(f\"Current balance: {self.balance}\")\n",
    "my_account = Account(\"12345\", 1000, \"Alice\")\n",
    "\n",
    "deposit_amount = float(input(\"Enter the amount to deposit: \"))\n",
    "my_account.deposit(deposit_amount)\n",
    "\n",
    "withdraw_amount = float(input(\"Enter the amount to withdraw: \"))\n",
    "my_account.withdraw(withdraw_amount)\n",
    "\n",
    "print(\"Current balance:\", my_account.check_balance())"
   ]
  },
  {
   "cell_type": "code",
   "execution_count": null,
   "id": "0b2253b3-f069-4926-b1d9-a294265beccd",
   "metadata": {},
   "outputs": [],
   "source": []
  }
 ],
 "metadata": {
  "kernelspec": {
   "display_name": "Python 3 (ipykernel)",
   "language": "python",
   "name": "python3"
  },
  "language_info": {
   "codemirror_mode": {
    "name": "ipython",
    "version": 3
   },
   "file_extension": ".py",
   "mimetype": "text/x-python",
   "name": "python",
   "nbconvert_exporter": "python",
   "pygments_lexer": "ipython3",
   "version": "3.11.7"
  }
 },
 "nbformat": 4,
 "nbformat_minor": 5
}
